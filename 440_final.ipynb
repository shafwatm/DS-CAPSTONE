{
  "nbformat": 4,
  "nbformat_minor": 0,
  "metadata": {
    "colab": {
      "provenance": []
    },
    "kernelspec": {
      "name": "python3",
      "display_name": "Python 3"
    },
    "language_info": {
      "name": "python"
    }
  },
  "cells": [
    {
      "cell_type": "code",
      "execution_count": 8,
      "metadata": {
        "colab": {
          "base_uri": "https://localhost:8080/"
        },
        "id": "6n2FWpszEax-",
        "outputId": "7ad96c83-1f18-46f5-9157-f70f38a7d9f8"
      },
      "outputs": [
        {
          "output_type": "stream",
          "name": "stdout",
          "text": [
            "                      date                                           location  \\\n",
            "0  2020-12-31T23:59:00.000  {'latitude': '41.9116839', 'human_address': '{...   \n",
            "1  2020-12-31T23:51:00.000  {'latitude': '41.863406877', 'human_address': ...   \n",
            "2  2020-12-31T23:45:00.000                                                NaN   \n",
            "3  2020-12-31T23:45:00.000  {'latitude': '41.772893757', 'human_address': ...   \n",
            "4  2020-12-31T23:45:00.000  {'latitude': '41.792043078', 'human_address': ...   \n",
            "\n",
            "  district                 block y_coordinate      latitude  \\\n",
            "0      025    017XX N CICERO AVE      1910955    41.9116839   \n",
            "1      010     013XX S HOMAN AVE      1893431  41.863406877   \n",
            "2      006     080XX S ELLIS AVE          NaN           NaN   \n",
            "3      003  002XX E MARQUETTE RD      1860641  41.772893757   \n",
            "4      002    056XX S WABASH AVE      1867609  41.792043078   \n",
            "\n",
            "                               description  \\\n",
            "0                                OVER $500   \n",
            "1      AGGRAVATED - OTHER DANGEROUS WEAPON   \n",
            "2  AGGRAVATED - KNIFE / CUTTING INSTRUMENT   \n",
            "3                              TO PROPERTY   \n",
            "4                  DOMESTIC BATTERY SIMPLE   \n",
            "\n",
            "                     location_description               updated_on  \\\n",
            "0  PARKING LOT / GARAGE (NON RESIDENTIAL)  2021-01-08T15:39:34.000   \n",
            "1                                  STREET  2021-01-07T15:41:47.000   \n",
            "2                               APARTMENT  2021-01-19T15:46:53.000   \n",
            "3                               APARTMENT  2021-01-07T15:41:47.000   \n",
            "4                               APARTMENT  2021-01-07T15:41:47.000   \n",
            "\n",
            "  community_area  ... ward case_number  year domestic fbi_code      longitude  \\\n",
            "0             25  ...   37    JE104819  2020    False       06  -87.745917518   \n",
            "1             29  ...   24    JE100080  2020    False      04B  -87.710455868   \n",
            "2             44  ...    8    JE100003  2020    False      04B            NaN   \n",
            "3             69  ...    6    JE101232  2020    False       14  -87.619639151   \n",
            "4             40  ...   20    JD475015  2020     True      08B  -87.624017919   \n",
            "\n",
            "   beat     primary_type arrest        id  \n",
            "0  2533            THEFT  False  12262588  \n",
            "1  1021          BATTERY  False  12258658  \n",
            "2  0631          BATTERY  False  12258583  \n",
            "3  0322  CRIMINAL DAMAGE  False  12259610  \n",
            "4  0225          BATTERY  False  12258623  \n",
            "\n",
            "[5 rows x 22 columns]\n",
            "Index(['date', 'location', 'district', 'block', 'y_coordinate', 'latitude',\n",
            "       'description', 'location_description', 'updated_on', 'community_area',\n",
            "       'iucr', 'x_coordinate', 'ward', 'case_number', 'year', 'domestic',\n",
            "       'fbi_code', 'longitude', 'beat', 'primary_type', 'arrest', 'id'],\n",
            "      dtype='object')\n"
          ]
        }
      ],
      "source": [
        "from flask import Flask, render_template\n",
        "import pandas as pd\n",
        "import numpy as np\n",
        "import folium\n",
        "from folium.plugins import MarkerCluster\n",
        "from folium.plugins import HeatMap\n",
        "import re\n",
        "import requests\n",
        "\n",
        "url = \"https://data.cityofchicago.org/resource/qzdf-xmn8.json\"\n",
        "response = requests.get(url)\n",
        "data = response.json()\n",
        "\n",
        "# Convert to DataFrame to inspect the structure\n",
        "df = pd.DataFrame(data)\n",
        "print(df.head())\n",
        "print(df.columns)"
      ]
    },
    {
      "cell_type": "code",
      "source": [
        "df['Latitude'] = df['location'].apply(lambda x: x.get('latitude') if pd.notnull(x) else None)\n",
        "df['Longitude'] = df['location'].apply(lambda x: x.get('longitude') if pd.notnull(x) else None)\n"
      ],
      "metadata": {
        "id": "jCCZIHIwEd-9"
      },
      "execution_count": 9,
      "outputs": []
    },
    {
      "cell_type": "code",
      "source": [
        "crime = pd.DataFrame(data)\n",
        "\n",
        "# Assuming 'latitude' and 'longitude' are direct columns in the DataFrame\n",
        "# Replace null or whitespace strings in latitude and longitude columns\n",
        "crime['latitude'] = crime['latitude'].replace(r'\\s+', np.nan, regex=True)\n",
        "crime['latitude'] = crime['latitude'].replace(r'^$', np.nan, regex=True)\n",
        "crime['longitude'] = crime['longitude'].replace(r'\\s+', np.nan, regex=True)\n",
        "crime['longitude'] = crime['longitude'].replace(r'^$', np.nan, regex=True)\n",
        "\n",
        "# Convert latitude and longitude to numeric, filling NaNs with a placeholder\n",
        "crime['latitude'] = pd.to_numeric(crime['latitude'], errors='coerce').fillna(-0.99999)\n",
        "crime['longitude'] = pd.to_numeric(crime['longitude'], errors='coerce').fillna(-0.99999)\n",
        "\n",
        "# Drop unnecessary columns, assuming these are the region columns that you don't need\n",
        "columns_to_drop = [':@computed_region_b3wi_w8ix', ':@computed_region_fhmw_rucx', ':@computed_region_u3y2_d2ws',\n",
        "                   ':@computed_region_5s6d_2f32', ':@computed_region_3ini_iehf', ':@computed_region_5bih_7r3y',\n",
        "                   ':@computed_region_x3q3_gi3e']\n",
        "crime.drop(columns=columns_to_drop, errors='ignore', inplace=True)\n",
        "\n",
        "# Drop any rows that still contain NaN values\n",
        "crime.dropna(inplace=True)\n",
        "\n",
        "# Create the map centered around a point in Chicago\n",
        "map = folium.Map(location=[41.8781, -87.6298], zoom_start=11)\n",
        "\n",
        "# Prepare data for the map\n",
        "lat = crime['latitude'].tolist()\n",
        "lng = crime['longitude'].tolist()\n",
        "offense = crime['primary_type'].tolist()  # Assuming 'primary_type' as the crime type column\n",
        "locations = list(zip(lat, lng))\n",
        "\n",
        "# Create a MarkerCluster object\n",
        "marker_cluster = MarkerCluster(name=\"Crimes by Marker\", overlay=True, control=True)\n",
        "\n",
        "# Loop through the data and add each marker to the cluster\n",
        "for i in range(len(locations)):\n",
        "    location = locations[i]\n",
        "    crime_type = offense[i]\n",
        "    html = f'''<b>Type of Crime:</b> {crime_type}<br>Latitude: {location[0]}<br>Longitude: {location[1]}'''\n",
        "    iframe = folium.IFrame(html, width=200, height=200)\n",
        "    popup = folium.Popup(iframe, max_width=200)\n",
        "    marker = folium.Marker(location=location, popup=popup)\n",
        "    marker_cluster.add_child(marker)\n",
        "\n",
        "# Add the marker cluster to the map\n",
        "marker_cluster.add_to(map)\n",
        "\n",
        "# Add a heatmap to the map\n",
        "HeatMap(data=locations, name=\"Crimes by Heatmap\").add_to(map)\n",
        "folium.LayerControl().add_to(map)\n",
        "\n",
        "# Generate the map's HTML representation\n",
        "html_map = map._repr_html_()\n",
        "\n",
        "# Setup the Flask application\n",
        "app = Flask(__name__)\n",
        "\n",
        "@app.route(\"/\")\n",
        "def index():\n",
        "    return render_template(\"index.html\", map=html_map)\n",
        "\n",
        "@app.route(\"/map/\")\n",
        "def map():\n",
        "    return render_template(\"map.html\")\n",
        "\n",
        "@app.route(\"/contact/\")\n",
        "def contact():\n",
        "    return render_template(\"contact.html\")\n",
        "\n",
        "@app.route(\"/avoid/\")\n",
        "def avoid():\n",
        "    return render_template(\"avoidance_map.html\")\n",
        "\n",
        "#if __name__ == \"__main__\":\n",
        "#    app.run(host=\"127.0.0.1\", port=8080, debug=True)"
      ],
      "metadata": {
        "id": "ofNKHFkxE-Cf"
      },
      "execution_count": 14,
      "outputs": []
    },
    {
      "cell_type": "code",
      "source": [],
      "metadata": {
        "id": "m1ptGFZMJ2d-"
      },
      "execution_count": null,
      "outputs": []
    }
  ]
}