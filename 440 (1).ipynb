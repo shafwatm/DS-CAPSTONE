{
  "nbformat": 4,
  "nbformat_minor": 0,
  "metadata": {
    "colab": {
      "provenance": []
    },
    "kernelspec": {
      "name": "python3",
      "display_name": "Python 3"
    },
    "language_info": {
      "name": "python"
    }
  },
  "cells": [
    {
      "cell_type": "code",
      "execution_count": null,
      "metadata": {
        "colab": {
          "base_uri": "https://localhost:8080/"
        },
        "id": "EZvObWCnGqau",
        "outputId": "61e231ca-b98a-4d17-8215-9bf5dfeacdb5"
      },
      "outputs": [
        {
          "output_type": "stream",
          "name": "stdout",
          "text": [
            "Requirement already satisfied: pandas in /usr/local/lib/python3.10/dist-packages (1.5.3)\n",
            "Requirement already satisfied: python-dateutil>=2.8.1 in /usr/local/lib/python3.10/dist-packages (from pandas) (2.8.2)\n",
            "Requirement already satisfied: pytz>=2020.1 in /usr/local/lib/python3.10/dist-packages (from pandas) (2023.4)\n",
            "Requirement already satisfied: numpy>=1.21.0 in /usr/local/lib/python3.10/dist-packages (from pandas) (1.25.2)\n",
            "Requirement already satisfied: six>=1.5 in /usr/local/lib/python3.10/dist-packages (from python-dateutil>=2.8.1->pandas) (1.16.0)\n",
            "Requirement already satisfied: sqlalchemy in /usr/local/lib/python3.10/dist-packages (2.0.28)\n",
            "Requirement already satisfied: typing-extensions>=4.6.0 in /usr/local/lib/python3.10/dist-packages (from sqlalchemy) (4.10.0)\n",
            "Requirement already satisfied: greenlet!=0.4.17 in /usr/local/lib/python3.10/dist-packages (from sqlalchemy) (3.0.3)\n"
          ]
        }
      ],
      "source": [
        "!pip install pandas\n",
        "!pip install sqlalchemy\n",
        "import sqlalchemy as sa\n"
      ]
    },
    {
      "cell_type": "code",
      "source": [
        "import sqlite3\n",
        "import pandas as pd\n",
        "\n",
        "# Create a new SQLite database\n",
        "conn = sqlite3.connect('crime_data.db')\n",
        "cur = conn.cursor()\n",
        "\n",
        "# Create table schema - modify this according to the structure of your CSV\n",
        "cur.execute('''\n",
        "CREATE TABLE Crimes (\n",
        "    id INTEGER PRIMARY KEY,\n",
        "    case_number TEXT,\n",
        "    date TEXT,\n",
        "    block TEXT,\n",
        "    iucr TEXT,\n",
        "    primary_type TEXT,\n",
        "    description TEXT,\n",
        "    location_description TEXT,\n",
        "    arrest BOOLEAN,\n",
        "    domestic BOOLEAN,\n",
        "    beat INTEGER,\n",
        "    district INTEGER,\n",
        "    ward INTEGER,\n",
        "    community_area INTEGER,\n",
        "    fbi_code TEXT,\n",
        "    latitude REAL,\n",
        "    longitude REAL\n",
        ")\n",
        "''')\n",
        "conn.commit()"
      ],
      "metadata": {
        "id": "DDG3rEi4GtM8"
      },
      "execution_count": null,
      "outputs": []
    },
    {
      "cell_type": "code",
      "source": [
        "from google.colab import drive\n",
        "drive.mount('/content/drive',)\n"
      ],
      "metadata": {
        "colab": {
          "base_uri": "https://localhost:8080/"
        },
        "id": "Hof0i67nG2qq",
        "outputId": "04259a23-75d6-4af4-e953-ab960613fc59"
      },
      "execution_count": null,
      "outputs": [
        {
          "output_type": "stream",
          "name": "stdout",
          "text": [
            "Mounted at /content/drive\n"
          ]
        }
      ]
    },
    {
      "cell_type": "code",
      "source": [
        "df = pd.read_csv('/content/drive/My Drive/capstone/Crimes_2020.csv')"
      ],
      "metadata": {
        "id": "UKMAUp3uG6X4"
      },
      "execution_count": null,
      "outputs": []
    },
    {
      "cell_type": "code",
      "source": [
        "conn = str(conn)\n",
        "engine = sa.create_engine(str(conn.connect()))\n",
        "df.to_sql('crimes', engine, if_exists='replace', index=False)"
      ],
      "metadata": {
        "colab": {
          "base_uri": "https://localhost:8080/",
          "height": 180
        },
        "id": "gal7bWI3HLZv",
        "outputId": "1e428e02-c83a-445a-98f2-93d804e99fa4"
      },
      "execution_count": null,
      "outputs": [
        {
          "output_type": "error",
          "ename": "AttributeError",
          "evalue": "'str' object has no attribute 'connect'",
          "traceback": [
            "\u001b[0;31m---------------------------------------------------------------------------\u001b[0m",
            "\u001b[0;31mAttributeError\u001b[0m                            Traceback (most recent call last)",
            "\u001b[0;32m<ipython-input-15-a53269587b54>\u001b[0m in \u001b[0;36m<cell line: 2>\u001b[0;34m()\u001b[0m\n\u001b[1;32m      1\u001b[0m \u001b[0mconn\u001b[0m \u001b[0;34m=\u001b[0m \u001b[0mstr\u001b[0m\u001b[0;34m(\u001b[0m\u001b[0mconn\u001b[0m\u001b[0;34m)\u001b[0m\u001b[0;34m\u001b[0m\u001b[0;34m\u001b[0m\u001b[0m\n\u001b[0;32m----> 2\u001b[0;31m \u001b[0mengine\u001b[0m \u001b[0;34m=\u001b[0m \u001b[0msa\u001b[0m\u001b[0;34m.\u001b[0m\u001b[0mcreate_engine\u001b[0m\u001b[0;34m(\u001b[0m\u001b[0mstr\u001b[0m\u001b[0;34m(\u001b[0m\u001b[0mconn\u001b[0m\u001b[0;34m.\u001b[0m\u001b[0mconnect\u001b[0m\u001b[0;34m(\u001b[0m\u001b[0;34m)\u001b[0m\u001b[0;34m)\u001b[0m\u001b[0;34m)\u001b[0m\u001b[0;34m\u001b[0m\u001b[0;34m\u001b[0m\u001b[0m\n\u001b[0m\u001b[1;32m      3\u001b[0m \u001b[0mdf\u001b[0m\u001b[0;34m.\u001b[0m\u001b[0mto_sql\u001b[0m\u001b[0;34m(\u001b[0m\u001b[0;34m'crimes'\u001b[0m\u001b[0;34m,\u001b[0m \u001b[0mengine\u001b[0m\u001b[0;34m,\u001b[0m \u001b[0mif_exists\u001b[0m\u001b[0;34m=\u001b[0m\u001b[0;34m'replace'\u001b[0m\u001b[0;34m,\u001b[0m \u001b[0mindex\u001b[0m\u001b[0;34m=\u001b[0m\u001b[0;32mFalse\u001b[0m\u001b[0;34m)\u001b[0m\u001b[0;34m\u001b[0m\u001b[0;34m\u001b[0m\u001b[0m\n",
            "\u001b[0;31mAttributeError\u001b[0m: 'str' object has no attribute 'connect'"
          ]
        }
      ]
    },
    {
      "cell_type": "code",
      "source": [
        "from flask import Flask, render_template, request, redirect, url_for\n",
        "from flask_sqlalchemy import SQLAlchemy\n",
        "from datetime import datetime\n",
        "\n",
        "app = Flask(__name__)\n",
        "# Configure your database URI\n",
        "app.config['SQLALCHEMY_DATABASE_URI'] = 'sqlite:////path_to_your_db/crime_data.db'\n",
        "db = SQLAlchemy(app)\n",
        "\n",
        "class Crime(db.Model):\n",
        "    __tablename__ = 'crimes'\n",
        "    id = db.Column(db.Integer, primary_key=True)\n",
        "    case_number = db.Column(db.String(255))\n",
        "    date = db.Column(db.DateTime)\n",
        "    block = db.Column(db.String(255))\n",
        "    iucr = db.Column(db.String(50))\n",
        "    primary_type = db.Column(db.String(100))\n",
        "    description = db.Column(db.String(255))\n",
        "    location_description = db.Column(db.String(255))\n",
        "    arrest = db.Column(db.Boolean)\n",
        "    domestic = db.Column(db.Boolean)\n",
        "    beat = db.Column(db.Integer)\n",
        "    district = db.Column(db.Integer)\n",
        "    ward = db.Column(db.Integer)\n",
        "    community_area = db.Column(db.Integer)\n",
        "    fbi_code = db.Column(db.String(50))\n",
        "    latitude = db.Column(db.Float)\n",
        "    longitude = db.Column(db.Float)\n",
        "    # Add other fields as necessary\n",
        "\n",
        "@app.route('/')\n",
        "def index():\n",
        "    # Example query: Get all crimes in 2020\n",
        "    crimes_2020 = Crime.query.filter(db.func.strftime('%Y', Crime.date) == '2020').all()\n",
        "    return render_template('main_page.html', crimes_2020=crimes_2020)\n",
        "\n",
        "if __name__ == '__main__':\n",
        "    app.run(debug=True)"
      ],
      "metadata": {
        "id": "Y24FjVg3HMsv"
      },
      "execution_count": null,
      "outputs": []
    }
  ]
}