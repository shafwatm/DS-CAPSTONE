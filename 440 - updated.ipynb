{
  "nbformat": 4,
  "nbformat_minor": 0,
  "metadata": {
    "colab": {
      "provenance": []
    },
    "kernelspec": {
      "name": "python3",
      "display_name": "Python 3"
    },
    "language_info": {
      "name": "python"
    }
  },
  "cells": [
    {
      "cell_type": "code",
      "execution_count": 1,
      "metadata": {
        "colab": {
          "base_uri": "https://localhost:8080/"
        },
        "id": "EZvObWCnGqau",
        "outputId": "c7942dc2-c917-4e01-d516-59cf80161ad7"
      },
      "outputs": [
        {
          "output_type": "stream",
          "name": "stdout",
          "text": [
            "Requirement already satisfied: pandas in /usr/local/lib/python3.10/dist-packages (1.5.3)\n",
            "Requirement already satisfied: python-dateutil>=2.8.1 in /usr/local/lib/python3.10/dist-packages (from pandas) (2.8.2)\n",
            "Requirement already satisfied: pytz>=2020.1 in /usr/local/lib/python3.10/dist-packages (from pandas) (2023.4)\n",
            "Requirement already satisfied: numpy>=1.21.0 in /usr/local/lib/python3.10/dist-packages (from pandas) (1.25.2)\n",
            "Requirement already satisfied: six>=1.5 in /usr/local/lib/python3.10/dist-packages (from python-dateutil>=2.8.1->pandas) (1.16.0)\n",
            "Requirement already satisfied: sqlalchemy in /usr/local/lib/python3.10/dist-packages (2.0.28)\n",
            "Requirement already satisfied: typing-extensions>=4.6.0 in /usr/local/lib/python3.10/dist-packages (from sqlalchemy) (4.10.0)\n",
            "Requirement already satisfied: greenlet!=0.4.17 in /usr/local/lib/python3.10/dist-packages (from sqlalchemy) (3.0.3)\n"
          ]
        }
      ],
      "source": [
        "!pip install pandas\n",
        "!pip install sqlalchemy\n",
        "import sqlalchemy as sa\n"
      ]
    },
    {
      "cell_type": "code",
      "source": [
        "import sqlite3\n",
        "import pandas as pd\n",
        "\n",
        "# Create a new SQLite database\n",
        "conn = sqlite3.connect('crime_data.db')\n",
        "cur = conn.cursor()\n",
        "\n",
        "# Create table schema - modify this according to the structure of your CSV\n",
        "cur.execute('''\n",
        "CREATE TABLE Crimes (\n",
        "    id INTEGER PRIMARY KEY,\n",
        "    case_number TEXT,\n",
        "    date TEXT,\n",
        "    block TEXT,\n",
        "    iucr TEXT,\n",
        "    primary_type TEXT,\n",
        "    description TEXT,\n",
        "    location_description TEXT,\n",
        "    arrest BOOLEAN,\n",
        "    domestic BOOLEAN,\n",
        "    beat INTEGER,\n",
        "    district INTEGER,\n",
        "    ward INTEGER,\n",
        "    community_area INTEGER,\n",
        "    fbi_code TEXT,\n",
        "    latitude REAL,\n",
        "    longitude REAL\n",
        ")\n",
        "''')\n",
        "conn.commit()"
      ],
      "metadata": {
        "id": "DDG3rEi4GtM8"
      },
      "execution_count": 2,
      "outputs": []
    },
    {
      "cell_type": "code",
      "source": [
        "from google.colab import drive\n",
        "drive.mount('/content/drive',)\n"
      ],
      "metadata": {
        "colab": {
          "base_uri": "https://localhost:8080/"
        },
        "id": "Hof0i67nG2qq",
        "outputId": "2ebe7a99-fe48-4b8a-a1d6-e3ceb4de35af"
      },
      "execution_count": 3,
      "outputs": [
        {
          "output_type": "stream",
          "name": "stdout",
          "text": [
            "Mounted at /content/drive\n"
          ]
        }
      ]
    },
    {
      "cell_type": "code",
      "source": [
        "df = pd.read_csv('/content/drive/My Drive/capstone/Crimes_2020.csv')"
      ],
      "metadata": {
        "id": "UKMAUp3uG6X4"
      },
      "execution_count": 4,
      "outputs": []
    },
    {
      "cell_type": "code",
      "source": [
        "\n",
        "df.to_sql('Crimes', conn, if_exists='replace', index=False)"
      ],
      "metadata": {
        "id": "gal7bWI3HLZv",
        "colab": {
          "base_uri": "https://localhost:8080/"
        },
        "outputId": "12d25f1d-0897-4f71-d2b6-81549937dfe3"
      },
      "execution_count": 8,
      "outputs": [
        {
          "output_type": "execute_result",
          "data": {
            "text/plain": [
              "212249"
            ]
          },
          "metadata": {},
          "execution_count": 8
        }
      ]
    },
    {
      "cell_type": "code",
      "source": [
        "from flask import Flask, render_template, request, redirect, url_for\n",
        "from flask_sqlalchemy import SQLAlchemy\n",
        "from datetime import datetime\n",
        "\n",
        "app = Flask(__name__)\n",
        "# Configure your database URI\n",
        "app.config['SQLALCHEMY_DATABASE_URI'] = 'sqlite:////path_to_your_db/crime_data.db'\n",
        "db = SQLAlchemy(app)\n",
        "\n",
        "class Crime(db.Model):\n",
        "    __tablename__ = 'Crimes'\n",
        "    id = db.Column(db.Integer, primary_key=True)\n",
        "    case_number = db.Column(db.String(255))\n",
        "    date = db.Column(db.DateTime)\n",
        "    block = db.Column(db.String(255))\n",
        "    iucr = db.Column(db.String(50))\n",
        "    primary_type = db.Column(db.String(100))\n",
        "    description = db.Column(db.String(255))\n",
        "    location_description = db.Column(db.String(255))\n",
        "    arrest = db.Column(db.Boolean)\n",
        "    domestic = db.Column(db.Boolean)\n",
        "    beat = db.Column(db.Integer)\n",
        "    district = db.Column(db.Integer)\n",
        "    ward = db.Column(db.Integer)\n",
        "    community_area = db.Column(db.Integer)\n",
        "    fbi_code = db.Column(db.String(50))\n",
        "    latitude = db.Column(db.Float)\n",
        "    longitude = db.Column(db.Float)\n",
        "    # Add other fields as necessary\n",
        "\n",
        "@app.route('/')\n",
        "def index():\n",
        "    # Example query: Get all crimes in 2020\n",
        "    crimes_2020 = Crime.query.filter(db.func.strftime('%Y', Crime.date) == '2020').all()\n",
        "    return render_template('main_page.html', crimes_2020=crimes_2020)\n",
        "\n",
        "if __name__ == '__main__':\n",
        "    app.run(debug=True)"
      ],
      "metadata": {
        "id": "Y24FjVg3HMsv",
        "colab": {
          "base_uri": "https://localhost:8080/",
          "height": 211
        },
        "outputId": "32b6a383-01b5-46d1-e086-2c651fb5c584"
      },
      "execution_count": 12,
      "outputs": [
        {
          "output_type": "error",
          "ename": "TypeError",
          "evalue": "'module' object is not callable",
          "traceback": [
            "\u001b[0;31m---------------------------------------------------------------------------\u001b[0m",
            "\u001b[0;31mTypeError\u001b[0m                                 Traceback (most recent call last)",
            "\u001b[0;32m<ipython-input-12-6d599e811762>\u001b[0m in \u001b[0;36m<cell line: 8>\u001b[0;34m()\u001b[0m\n\u001b[1;32m      6\u001b[0m \u001b[0;31m# Configure your database URI\u001b[0m\u001b[0;34m\u001b[0m\u001b[0;34m\u001b[0m\u001b[0m\n\u001b[1;32m      7\u001b[0m \u001b[0mapp\u001b[0m\u001b[0;34m.\u001b[0m\u001b[0mconfig\u001b[0m\u001b[0;34m[\u001b[0m\u001b[0;34m'SQLALCHEMY_DATABASE_URI'\u001b[0m\u001b[0;34m]\u001b[0m \u001b[0;34m=\u001b[0m \u001b[0;34m'sqlite:////path_to_your_db/crime_data.db'\u001b[0m\u001b[0;34m\u001b[0m\u001b[0;34m\u001b[0m\u001b[0m\n\u001b[0;32m----> 8\u001b[0;31m \u001b[0mdb\u001b[0m \u001b[0;34m=\u001b[0m \u001b[0msqlalchemy\u001b[0m\u001b[0;34m(\u001b[0m\u001b[0mapp\u001b[0m\u001b[0;34m)\u001b[0m\u001b[0;34m\u001b[0m\u001b[0;34m\u001b[0m\u001b[0m\n\u001b[0m\u001b[1;32m      9\u001b[0m \u001b[0;34m\u001b[0m\u001b[0m\n\u001b[1;32m     10\u001b[0m \u001b[0;32mclass\u001b[0m \u001b[0mCrime\u001b[0m\u001b[0;34m(\u001b[0m\u001b[0mdb\u001b[0m\u001b[0;34m.\u001b[0m\u001b[0mModel\u001b[0m\u001b[0;34m)\u001b[0m\u001b[0;34m:\u001b[0m\u001b[0;34m\u001b[0m\u001b[0;34m\u001b[0m\u001b[0m\n",
            "\u001b[0;31mTypeError\u001b[0m: 'module' object is not callable"
          ]
        }
      ]
    },
    {
      "cell_type": "code",
      "source": [],
      "metadata": {
        "id": "cZqtDprbIjoa"
      },
      "execution_count": null,
      "outputs": []
    }
  ]
}